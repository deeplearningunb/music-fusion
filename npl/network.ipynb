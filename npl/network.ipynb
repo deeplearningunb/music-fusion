{
 "cells": [
  {
   "cell_type": "code",
   "execution_count": 5,
   "metadata": {},
   "outputs": [
    {
     "name": "stdout",
     "output_type": "stream",
     "text": "showing info https://raw.githubusercontent.com/nltk/nltk_data/gh-pages/index.xml\n"
    },
    {
     "data": {
      "text/plain": "True"
     },
     "execution_count": 5,
     "metadata": {},
     "output_type": "execute_result"
    }
   ],
   "source": [
    "import nltk\n",
    "nltk.download()"
   ]
  },
  {
   "cell_type": "code",
   "execution_count": 6,
   "metadata": {},
   "outputs": [
    {
     "data": {
      "text/plain": "['At',\n 'eight',\n \"o'clock\",\n 'on',\n 'Thursday',\n 'morning',\n 'Arthur',\n 'did',\n \"n't\",\n 'feel',\n 'very',\n 'good',\n '.']"
     },
     "execution_count": 6,
     "metadata": {},
     "output_type": "execute_result"
    }
   ],
   "source": [
    "sentence = \"\"\"At eight o'clock on Thursday morning\n",
    "... Arthur didn't feel very good.\"\"\"\n",
    "tokens = nltk.word_tokenize(sentence)\n",
    "tokens"
   ]
  },
  {
   "cell_type": "code",
   "execution_count": 16,
   "metadata": {},
   "outputs": [
    {
     "name": "stdout",
     "output_type": "stream",
     "text": "['Uma vez Flamengo, sempre Flamengo\\n', 'Flamengo sempre eu hei de ser\\n', 'É meu maior prazer vê-lo brilhar\\n', 'Seja na terra, seja no mar\\n', 'Vencer, vencer, vencer!\\n', 'Uma vez Flamengo, Flamengo até morrer!\\n', '\\n', 'Na regata, ele me mata\\n', 'Me maltrata, me arrebata\\n', 'Que emoção no coração!\\n', 'Consagrado no gramado\\n', 'Sempre amado, o mais cotado\\n', 'No Fla-Flu é o Ai, Jesus!\\n', '\\n', 'Eu teria um desgosto profundo\\n', 'Se faltasse o Flamengo no mundo\\n', 'Ele vibra, ele é fibra\\n', 'Muita libra já pesou\\n', 'Flamengo até morrer eu sou!']\n"
    }
   ],
   "source": [
    "#from npl.read_letters import read_letter\n",
    "#name = 'hino-clube-regatas-flamengo.txt'\n",
    "#read_letter(name)\n",
    "\n",
    "f = open('npl/hino-clube-regatas-flamengo.txt', \"r\")\n",
    "print(f.readlines())"
   ]
  },
  {
   "cell_type": "code",
   "execution_count": null,
   "metadata": {},
   "outputs": [],
   "source": []
  }
 ],
 "metadata": {
  "kernelspec": {
   "display_name": "Python 3",
   "language": "python",
   "name": "python3"
  },
  "language_info": {
   "codemirror_mode": {
    "name": "ipython",
    "version": 3
   },
   "file_extension": ".py",
   "mimetype": "text/x-python",
   "name": "python",
   "nbconvert_exporter": "python",
   "pygments_lexer": "ipython3",
   "version": "3.7.4"
  }
 },
 "nbformat": 4,
 "nbformat_minor": 4
}